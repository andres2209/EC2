{
 "cells": [
  {
   "cell_type": "code",
   "execution_count": null,
   "id": "29889eec",
   "metadata": {},
   "outputs": [],
   "source": [
    "import pandas as pd\n",
    "import numpy as np \n",
    "import altair as alt\n"
   ]
  },
  {
   "cell_type": "code",
   "execution_count": 1,
   "id": "e348c0d3",
   "metadata": {},
   "outputs": [
    {
     "name": "stdout",
     "output_type": "stream",
     "text": [
      "Hola, ya terminé el EC2. Saludos. Andrés\n"
     ]
    }
   ],
   "source": [
    "nombre = \"Andrés\"\n",
    "print(\"Hola, ya terminé el EC2. Saludos. \" + nombre)"
   ]
  },
  {
   "cell_type": "code",
   "execution_count": null,
   "id": "b9a29b89",
   "metadata": {},
   "outputs": [],
   "source": []
  }
 ],
 "metadata": {
  "kernelspec": {
   "display_name": "Python 3",
   "language": "python",
   "name": "python3"
  },
  "language_info": {
   "codemirror_mode": {
    "name": "ipython",
    "version": 3
   },
   "file_extension": ".py",
   "mimetype": "text/x-python",
   "name": "python",
   "nbconvert_exporter": "python",
   "pygments_lexer": "ipython3",
   "version": "3.9.1"
  }
 },
 "nbformat": 4,
 "nbformat_minor": 5
}
